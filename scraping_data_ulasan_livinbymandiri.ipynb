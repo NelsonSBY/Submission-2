{
  "nbformat": 4,
  "nbformat_minor": 0,
  "metadata": {
    "colab": {
      "provenance": []
    },
    "kernelspec": {
      "name": "python3",
      "display_name": "Python 3"
    },
    "language_info": {
      "name": "python"
    }
  },
  "cells": [
    {
      "cell_type": "code",
      "execution_count": null,
      "metadata": {
        "colab": {
          "base_uri": "https://localhost:8080/"
        },
        "id": "Mu1Wz938uixI",
        "outputId": "737f0bee-268f-47c5-ceef-8c9231e84a10"
      },
      "outputs": [
        {
          "output_type": "stream",
          "name": "stdout",
          "text": [
            "Collecting google-play-scraper\n",
            "  Downloading google_play_scraper-1.2.7-py3-none-any.whl.metadata (50 kB)\n",
            "\u001b[?25l     \u001b[90m━━━━━━━━━━━━━━━━━━━━━━━━━━━━━━━━━━━━━━━━\u001b[0m \u001b[32m0.0/50.2 kB\u001b[0m \u001b[31m?\u001b[0m eta \u001b[36m-:--:--\u001b[0m\r\u001b[2K     \u001b[90m━━━━━━━━━━━━━━━━━━━━━━━━━━━━━━━━━━━━━━━━\u001b[0m \u001b[32m50.2/50.2 kB\u001b[0m \u001b[31m3.3 MB/s\u001b[0m eta \u001b[36m0:00:00\u001b[0m\n",
            "\u001b[?25hDownloading google_play_scraper-1.2.7-py3-none-any.whl (28 kB)\n",
            "Installing collected packages: google-play-scraper\n",
            "Successfully installed google-play-scraper-1.2.7\n"
          ]
        }
      ],
      "source": [
        "#mengunduh package yang akan digunakkan untuk scrapping\n",
        "!pip install google-play-scraper"
      ]
    },
    {
      "cell_type": "code",
      "source": [
        "from google_play_scraper import Sort, reviews\n",
        "import pandas as pd\n",
        "\n",
        "# Ambil review Livin' by Mandiri\n",
        "result, _ = reviews(\n",
        "    'com.bankmandiri.mandirionline',  # Package name Livin'\n",
        "    lang='id',\n",
        "    country='id',\n",
        "    sort=Sort.NEWEST,\n",
        "    count=50000\n",
        ")\n",
        "\n",
        "# Masukkan ke DataFrame\n",
        "df = pd.DataFrame(result)\n",
        "\n",
        "# Pilih kolom yang dibutuhkan\n",
        "df = df[['content', 'score', 'at']]\n",
        "df.rename(columns={\n",
        "    'content': 'review',\n",
        "    'score': 'rating',\n",
        "    'at': 'tanggal'\n",
        "}, inplace=True)\n",
        "\n",
        "# Simpan ke file\n",
        "df.to_csv('livinbymandiri_reviews.csv', index=False)\n"
      ],
      "metadata": {
        "id": "hGyczA0kv_LB"
      },
      "execution_count": null,
      "outputs": []
    }
  ]
}